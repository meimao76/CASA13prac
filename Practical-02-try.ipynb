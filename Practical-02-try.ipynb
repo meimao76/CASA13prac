{
 "cells": [
  {
   "cell_type": "code",
   "execution_count": 1,
   "id": "b815f83e-45d9-4e37-a4f5-442cfa0a8398",
   "metadata": {},
   "outputs": [
    {
     "name": "stdout",
     "output_type": "stream",
     "text": [
      "hello world\n"
     ]
    }
   ],
   "source": [
    "print('hello world')"
   ]
  },
  {
   "cell_type": "code",
   "execution_count": 5,
   "id": "4b4d7d00-3c92-4690-a319-5caa746d5f09",
   "metadata": {},
   "outputs": [
    {
     "name": "stdout",
     "output_type": "stream",
     "text": [
      "4\n",
      "22\n",
      "22\n",
      "16\n",
      "0.5\n",
      "<class 'str'>\n",
      "<class 'int'>\n",
      "<class 'int'>\n",
      "<class 'float'>\n"
     ]
    }
   ],
   "source": [
    "x = '2'\n",
    "y = z = 2\n",
    "\n",
    "print(y * z)    # 4\n",
    "print(x * y)    # 22\n",
    "print(x + x)    # 22\n",
    "print((y+z)**z) # 16\n",
    "print(y/(y+z))  # 0.5\n",
    "\n",
    "print( type(x * y) )    # <class 'str'>\n",
    "print( type(y * z) )    # <class 'int'>\n",
    "print( type((y+z)**z) ) # <class 'int'>\n",
    "print( type(y/(y+z)) )  # <class 'flot'>"
   ]
  },
  {
   "cell_type": "code",
   "execution_count": 6,
   "id": "9c29bc75-4f7d-466b-8364-c1a5fc42d67c",
   "metadata": {},
   "outputs": [
    {
     "name": "stdout",
     "output_type": "stream",
     "text": [
      "22\n",
      "32\n",
      "22\n"
     ]
    }
   ],
   "source": [
    "x = 12\n",
    "y = 10\n",
    "\n",
    "z = x + y # 22\n",
    "x = x + y # 22\n",
    "y = z + y # 32\n",
    "\n",
    "print(x)\n",
    "print(y)\n",
    "print(z)\n"
   ]
  },
  {
   "cell_type": "code",
   "execution_count": 7,
   "id": "445b9923-b345-4db9-a160-8b67953aeeab",
   "metadata": {},
   "outputs": [
    {
     "name": "stdout",
     "output_type": "stream",
     "text": [
      "2.5\n",
      "2.25\n",
      "2.5\n"
     ]
    }
   ],
   "source": [
    "x = 1 + (2 * 3) / 4\n",
    "y = (1 + 2) * (3 / 4)\n",
    "z = 1 + 2 * (3 / 4)\n",
    "\n",
    "print(x) # x is 2.5\n",
    "print(y) # y is 2.25\n",
    "print(z) # z is 2.5"
   ]
  },
  {
   "cell_type": "code",
   "execution_count": 9,
   "id": "7cd56975-1953-451b-a0d9-b0db06f146b2",
   "metadata": {},
   "outputs": [
    {
     "name": "stdout",
     "output_type": "stream",
     "text": [
      "1.0\n",
      "13\n"
     ]
    },
    {
     "ename": "ZeroDivisionError",
     "evalue": "division by zero",
     "output_type": "error",
     "traceback": [
      "\u001b[0;31m---------------------------------------------------------------------------\u001b[0m",
      "\u001b[0;31mZeroDivisionError\u001b[0m                         Traceback (most recent call last)",
      "Cell \u001b[0;32mIn[9], line 6\u001b[0m\n\u001b[1;32m      4\u001b[0m \u001b[38;5;28mprint\u001b[39m( x \u001b[38;5;241m/\u001b[39m\u001b[38;5;241m10\u001b[39m \u001b[38;5;241m+\u001b[39m y\u001b[38;5;241m*\u001b[39m\u001b[38;5;241m0\u001b[39m ) \u001b[38;5;66;03m# 1\u001b[39;00m\n\u001b[1;32m      5\u001b[0m \u001b[38;5;28mprint\u001b[39m( x \u001b[38;5;241m+\u001b[39m y ) \u001b[38;5;66;03m# 13\u001b[39;00m\n\u001b[0;32m----> 6\u001b[0m \u001b[38;5;28mprint\u001b[39m( \u001b[43m(\u001b[49m\u001b[43mx\u001b[49m\u001b[43m \u001b[49m\u001b[38;5;241;43m+\u001b[39;49m\u001b[43m \u001b[49m\u001b[43my\u001b[49m\u001b[43m)\u001b[49m\u001b[43m \u001b[49m\u001b[38;5;241;43m/\u001b[39;49m\u001b[43m \u001b[49m\u001b[38;5;241;43m0\u001b[39;49m ) \u001b[38;5;66;03m# False\u001b[39;00m\n\u001b[1;32m      7\u001b[0m \u001b[38;5;28mprint\u001b[39m( x \u001b[38;5;241m*\u001b[39m \u001b[38;5;241m100\u001b[39m \u001b[38;5;241m+\u001b[39m y \u001b[38;5;241m*\u001b[39m\u001b[38;5;241m0\u001b[39m ) \u001b[38;5;66;03m# 1000\u001b[39;00m\n\u001b[1;32m      8\u001b[0m \u001b[38;5;28mprint\u001b[39m( x \u001b[38;5;241m-\u001b[39m y ) \u001b[38;5;66;03m# 7\u001b[39;00m\n",
      "\u001b[0;31mZeroDivisionError\u001b[0m: division by zero"
     ]
    }
   ],
   "source": [
    "x = 10\n",
    "y = 3\n",
    "\n",
    "print( x /10 + y*0 ) # 1\n",
    "print( x + y ) # 13\n",
    "print( (x + y) / 0 ) # False\n",
    "print( x * 100 + y *0 ) # 1000\n",
    "print( x - y ) # 7\n",
    "print( x *0 + y ) # 3"
   ]
  },
  {
   "cell_type": "code",
   "execution_count": 17,
   "id": "aa666fd1-98c9-4475-9a33-e5ebe591f443",
   "metadata": {},
   "outputs": [
    {
     "name": "stdout",
     "output_type": "stream",
     "text": [
      "7238.229 cm3\n"
     ]
    }
   ],
   "source": [
    "from math import pi\n",
    "v = (4/3) * pi * (12**3) \n",
    "print(f\"{v:0.3f} cm3\")"
   ]
  },
  {
   "cell_type": "code",
   "execution_count": null,
   "id": "83f95d1b-950c-4ef8-a830-e725fd7d17d2",
   "metadata": {},
   "outputs": [],
   "source": []
  }
 ],
 "metadata": {
  "kernelspec": {
   "display_name": "Python (base)",
   "language": "python",
   "name": "base"
  },
  "language_info": {
   "codemirror_mode": {
    "name": "ipython",
    "version": 3
   },
   "file_extension": ".py",
   "mimetype": "text/x-python",
   "name": "python",
   "nbconvert_exporter": "python",
   "pygments_lexer": "ipython3",
   "version": "3.11.9"
  }
 },
 "nbformat": 4,
 "nbformat_minor": 5
}
